{
 "cells": [
  {
   "cell_type": "code",
   "execution_count": 45,
   "metadata": {},
   "outputs": [],
   "source": [
    "%matplotlib inline\n",
    "# pandas for data manipulation\n",
    "import pandas as pd\n",
    "pd.options.mode.chained_assignment = None\n",
    "# nltk for nlp\n",
    "from nltk.tokenize import word_tokenize, sent_tokenize\n",
    "from nltk.corpus import stopwords\n",
    "# list of stopwords like articles, preposition\n",
    "stop = set(stopwords.words('english'))\n",
    "from string import punctuation\n",
    "from collections import Counter\n",
    "import re\n",
    "import numpy as np\n",
    "import sys\n",
    "reload(sys)\n",
    "sys.setdefaultencoding('utf8')"
   ]
  },
  {
   "cell_type": "code",
   "execution_count": null,
   "metadata": {
    "collapsed": true
   },
   "outputs": [],
   "source": []
  },
  {
   "cell_type": "code",
   "execution_count": null,
   "metadata": {
    "collapsed": true
   },
   "outputs": [],
   "source": []
  },
  {
   "cell_type": "code",
   "execution_count": null,
   "metadata": {
    "collapsed": true
   },
   "outputs": [],
   "source": []
  },
  {
   "cell_type": "code",
   "execution_count": null,
   "metadata": {
    "collapsed": true
   },
   "outputs": [],
   "source": []
  },
  {
   "cell_type": "code",
   "execution_count": null,
   "metadata": {
    "collapsed": true
   },
   "outputs": [],
   "source": []
  },
  {
   "cell_type": "code",
   "execution_count": null,
   "metadata": {
    "collapsed": true
   },
   "outputs": [],
   "source": []
  },
  {
   "cell_type": "code",
   "execution_count": null,
   "metadata": {
    "collapsed": true
   },
   "outputs": [],
   "source": []
  },
  {
   "cell_type": "code",
   "execution_count": 46,
   "metadata": {
    "collapsed": true
   },
   "outputs": [],
   "source": [
    "data=pd.read_csv(\"news.csv\")"
   ]
  },
  {
   "cell_type": "code",
   "execution_count": null,
   "metadata": {
    "collapsed": true
   },
   "outputs": [],
   "source": []
  },
  {
   "cell_type": "code",
   "execution_count": 47,
   "metadata": {},
   "outputs": [
    {
     "data": {
      "text/html": [
       "<div>\n",
       "<table border=\"1\" class=\"dataframe\">\n",
       "  <thead>\n",
       "    <tr style=\"text-align: right;\">\n",
       "      <th></th>\n",
       "      <th>author</th>\n",
       "      <th>description</th>\n",
       "      <th>publishedAt</th>\n",
       "      <th>source</th>\n",
       "      <th>title</th>\n",
       "      <th>url</th>\n",
       "      <th>urlToImage</th>\n",
       "      <th>category</th>\n",
       "      <th>scraping_date</th>\n",
       "    </tr>\n",
       "  </thead>\n",
       "  <tbody>\n",
       "    <tr>\n",
       "      <th>0</th>\n",
       "      <td>http://www.abc.net.au/news/sarah-ferguson/6970476</td>\n",
       "      <td>NSW Police Commissioner Mick Fuller has conced...</td>\n",
       "      <td>2017-05-24T08:56:33Z</td>\n",
       "      <td>abc-news-au</td>\n",
       "      <td>NSW top cop says 'we should have gone in earli...</td>\n",
       "      <td>http://www.abc.net.au/news/2017-05-24/police-s...</td>\n",
       "      <td>http://www.abc.net.au/news/image/5968840-1x1-7...</td>\n",
       "      <td>general</td>\n",
       "      <td>2017-05-24 17:59:56.551663</td>\n",
       "    </tr>\n",
       "    <tr>\n",
       "      <th>1</th>\n",
       "      <td>http://www.abc.net.au/news/emma--younger/6455416</td>\n",
       "      <td>Lawyers warned magazine Woman's Day not to pub...</td>\n",
       "      <td>2017-05-24T05:10:01Z</td>\n",
       "      <td>abc-news-au</td>\n",
       "      <td>Rebel Wilson breaks down while giving evidence...</td>\n",
       "      <td>http://www.abc.net.au/news/2017-05-24/rebel-wi...</td>\n",
       "      <td>http://www.abc.net.au/news/image/8554360-1x1-7...</td>\n",
       "      <td>general</td>\n",
       "      <td>2017-05-24 17:59:56.551663</td>\n",
       "    </tr>\n",
       "    <tr>\n",
       "      <th>2</th>\n",
       "      <td>Al Jazeera</td>\n",
       "      <td>Ongoing violence prompts 'mass exodus' from Ma...</td>\n",
       "      <td>2017-05-24T10:49:00Z</td>\n",
       "      <td>al-jazeera-english</td>\n",
       "      <td>Mindanao: Churchgoers 'taken hostage' amid Mar...</td>\n",
       "      <td>http://www.aljazeera.com/news/2017/05/mindanao...</td>\n",
       "      <td>http://www.aljazeera.com/mritems/Images/2017/5...</td>\n",
       "      <td>general</td>\n",
       "      <td>2017-05-24 17:59:56.551663</td>\n",
       "    </tr>\n",
       "    <tr>\n",
       "      <th>3</th>\n",
       "      <td>Al Jazeera</td>\n",
       "      <td>'Wider group of individuals' may be linked to ...</td>\n",
       "      <td>2017-05-24T02:51:00Z</td>\n",
       "      <td>al-jazeera-english</td>\n",
       "      <td>Britain's security alert level raised to 'crit...</td>\n",
       "      <td>http://www.aljazeera.com/news/2017/05/britain-...</td>\n",
       "      <td>http://www.aljazeera.com/mritems/Images/2017/5...</td>\n",
       "      <td>general</td>\n",
       "      <td>2017-05-24 17:59:56.551663</td>\n",
       "    </tr>\n",
       "    <tr>\n",
       "      <th>4</th>\n",
       "      <td>Al Jazeera</td>\n",
       "      <td>Judges in small island nation say current laws...</td>\n",
       "      <td>2017-05-24T09:42:00Z</td>\n",
       "      <td>al-jazeera-english</td>\n",
       "      <td>Taiwan top court rules in favour of gay marriage</td>\n",
       "      <td>http://www.aljazeera.com/news/2017/05/taiwan-t...</td>\n",
       "      <td>http://www.aljazeera.com/mritems/Images/2017/5...</td>\n",
       "      <td>general</td>\n",
       "      <td>2017-05-24 17:59:56.551663</td>\n",
       "    </tr>\n",
       "  </tbody>\n",
       "</table>\n",
       "</div>"
      ],
      "text/plain": [
       "                                              author  \\\n",
       "0  http://www.abc.net.au/news/sarah-ferguson/6970476   \n",
       "1   http://www.abc.net.au/news/emma--younger/6455416   \n",
       "2                                         Al Jazeera   \n",
       "3                                         Al Jazeera   \n",
       "4                                         Al Jazeera   \n",
       "\n",
       "                                         description           publishedAt  \\\n",
       "0  NSW Police Commissioner Mick Fuller has conced...  2017-05-24T08:56:33Z   \n",
       "1  Lawyers warned magazine Woman's Day not to pub...  2017-05-24T05:10:01Z   \n",
       "2  Ongoing violence prompts 'mass exodus' from Ma...  2017-05-24T10:49:00Z   \n",
       "3  'Wider group of individuals' may be linked to ...  2017-05-24T02:51:00Z   \n",
       "4  Judges in small island nation say current laws...  2017-05-24T09:42:00Z   \n",
       "\n",
       "               source                                              title  \\\n",
       "0         abc-news-au  NSW top cop says 'we should have gone in earli...   \n",
       "1         abc-news-au  Rebel Wilson breaks down while giving evidence...   \n",
       "2  al-jazeera-english  Mindanao: Churchgoers 'taken hostage' amid Mar...   \n",
       "3  al-jazeera-english  Britain's security alert level raised to 'crit...   \n",
       "4  al-jazeera-english   Taiwan top court rules in favour of gay marriage   \n",
       "\n",
       "                                                 url  \\\n",
       "0  http://www.abc.net.au/news/2017-05-24/police-s...   \n",
       "1  http://www.abc.net.au/news/2017-05-24/rebel-wi...   \n",
       "2  http://www.aljazeera.com/news/2017/05/mindanao...   \n",
       "3  http://www.aljazeera.com/news/2017/05/britain-...   \n",
       "4  http://www.aljazeera.com/news/2017/05/taiwan-t...   \n",
       "\n",
       "                                          urlToImage category  \\\n",
       "0  http://www.abc.net.au/news/image/5968840-1x1-7...  general   \n",
       "1  http://www.abc.net.au/news/image/8554360-1x1-7...  general   \n",
       "2  http://www.aljazeera.com/mritems/Images/2017/5...  general   \n",
       "3  http://www.aljazeera.com/mritems/Images/2017/5...  general   \n",
       "4  http://www.aljazeera.com/mritems/Images/2017/5...  general   \n",
       "\n",
       "                scraping_date  \n",
       "0  2017-05-24 17:59:56.551663  \n",
       "1  2017-05-24 17:59:56.551663  \n",
       "2  2017-05-24 17:59:56.551663  \n",
       "3  2017-05-24 17:59:56.551663  \n",
       "4  2017-05-24 17:59:56.551663  "
      ]
     },
     "execution_count": 47,
     "metadata": {},
     "output_type": "execute_result"
    }
   ],
   "source": [
    "data.head()"
   ]
  },
  {
   "cell_type": "code",
   "execution_count": 48,
   "metadata": {},
   "outputs": [],
   "source": [
    "print (\"data shape: \",data.shape)"
   ]
  },
  {
   "cell_type": "code",
   "execution_count": 49,
   "metadata": {},
   "outputs": [
    {
     "data": {
      "text/plain": [
       "<matplotlib.axes._subplots.AxesSubplot at 0x7f30d62fa6d0>"
      ]
     },
     "execution_count": 49,
     "metadata": {},
     "output_type": "execute_result"
    },
    {
     "data": {
      "image/png": "[encoded data removed]",
      "text/plain": [
       "<matplotlib.figure.Figure at 0x7f30d62fa050>"
      ]
     },
     "metadata": {},
     "output_type": "display_data"
    }
   ],
   "source": [
    "data.category.value_counts().plot(kind=\"bar\",grid=True,figsize=(16,9))"
   ]
  },
  {
   "cell_type": "code",
   "execution_count": 50,
   "metadata": {
    "collapsed": true
   },
   "outputs": [],
   "source": [
    "data = data.drop_duplicates('description')"
   ]
  },
  {
   "cell_type": "code",
   "execution_count": 51,
   "metadata": {
    "collapsed": true
   },
   "outputs": [],
   "source": [
    "# remove rows with empty descriptions\n",
    "data = data[~data['description'].isnull()]"
   ]
  },
  {
   "cell_type": "code",
   "execution_count": 52,
   "metadata": {},
   "outputs": [
    {
     "data": {
      "text/plain": [
       "(494, 9)"
      ]
     },
     "execution_count": 52,
     "metadata": {},
     "output_type": "execute_result"
    }
   ],
   "source": [
    "\n",
    "\n",
    "data.shape\n",
    "\n"
   ]
  },
  {
   "cell_type": "code",
   "execution_count": 53,
   "metadata": {
    "collapsed": true
   },
   "outputs": [],
   "source": [
    "\n",
    "\n",
    "data['len'] = data['description'].map(len)\n",
    "\n"
   ]
  },
  {
   "cell_type": "code",
   "execution_count": 54,
   "metadata": {
    "collapsed": true
   },
   "outputs": [],
   "source": [
    "data = data[data.len > 140]\n",
    "data.reset_index(inplace=True)\n",
    "data.drop('index', inplace=True, axis=1)\n",
    "\n"
   ]
  },
  {
   "cell_type": "code",
   "execution_count": 55,
   "metadata": {},
   "outputs": [
    {
     "data": {
      "text/plain": [
       "(157, 10)"
      ]
     },
     "execution_count": 55,
     "metadata": {},
     "output_type": "execute_result"
    }
   ],
   "source": [
    "data.shape"
   ]
  },
  {
   "cell_type": "code",
   "execution_count": 70,
   "metadata": {},
   "outputs": [],
   "source": [
    "def tokenizer(text):\n",
    "    try:\n",
    "        tokens_ = [word_tokenize(sent) for sent in sent_tokenize(text)]\n",
    "        \n",
    "        tokens = []\n",
    "        for token_by_sent in tokens_:\n",
    "            tokens += token_by_sent\n",
    "\n",
    "        tokens = list(filter(lambda t: t.lower() not in stop, tokens))\n",
    "        tokens = list(filter(lambda t: t not in punctuation, tokens))\n",
    "        tokens = list(filter(lambda t: t not in [u\"'s\", u\"n't\", u\"...\", u\"''\", u'``', \n",
    "                                            u'\\u2014', u'\\u2026', u'\\u2013'], tokens))\n",
    "        filtered_tokens = []\n",
    "        for token in tokens:\n",
    "            if re.search('[a-zA-Z]', token):\n",
    "                filtered_tokens.append(token)\n",
    "\n",
    "        filtered_tokens = list(map(lambda token: token.lower(), filtered_tokens))\n",
    "\n",
    "        return filtered_tokens\n",
    "    except Error as e:\n",
    "        print(e)"
   ]
  },
  {
   "cell_type": "code",
   "execution_count": 60,
   "metadata": {},
   "outputs": [
    {
     "ename": "NameError",
     "evalue": "global name 'Error' is not defined",
     "output_type": "error",
     "traceback": [
      "\u001b[0;31m---------------------------------------------------------------------------\u001b[0m",
      "\u001b[0;31mNameError\u001b[0m                                 Traceback (most recent call last)",
      "\u001b[0;32m<ipython-input-60-356502f99745>\u001b[0m in \u001b[0;36m<module>\u001b[0;34m()\u001b[0m\n\u001b[0;32m----> 1\u001b[0;31m \u001b[0mdata\u001b[0m\u001b[0;34m[\u001b[0m\u001b[0;34m'tokens'\u001b[0m\u001b[0;34m]\u001b[0m \u001b[0;34m=\u001b[0m \u001b[0mdata\u001b[0m\u001b[0;34m[\u001b[0m\u001b[0;34m'description'\u001b[0m\u001b[0;34m]\u001b[0m\u001b[0;34m.\u001b[0m\u001b[0mmap\u001b[0m\u001b[0;34m(\u001b[0m\u001b[0mtokenizer\u001b[0m\u001b[0;34m)\u001b[0m\u001b[0;34m\u001b[0m\u001b[0m\n\u001b[0m",
      "\u001b[0;32m/usr/lib/python2.7/dist-packages/pandas/core/series.pyc\u001b[0m in \u001b[0;36mmap\u001b[0;34m(self, arg, na_action)\u001b[0m\n\u001b[1;32m   2052\u001b[0m                                      index=self.index).__finalize__(self)\n\u001b[1;32m   2053\u001b[0m         \u001b[0;32melse\u001b[0m\u001b[0;34m:\u001b[0m\u001b[0;34m\u001b[0m\u001b[0m\n\u001b[0;32m-> 2054\u001b[0;31m             \u001b[0mmapped\u001b[0m \u001b[0;34m=\u001b[0m \u001b[0mmap_f\u001b[0m\u001b[0;34m(\u001b[0m\u001b[0mvalues\u001b[0m\u001b[0;34m,\u001b[0m \u001b[0marg\u001b[0m\u001b[0;34m)\u001b[0m\u001b[0;34m\u001b[0m\u001b[0m\n\u001b[0m\u001b[1;32m   2055\u001b[0m             return self._constructor(mapped,\n\u001b[1;32m   2056\u001b[0m                                      index=self.index).__finalize__(self)\n",
      "\u001b[0;32mpandas/src/inference.pyx\u001b[0m in \u001b[0;36mpandas.lib.map_infer (pandas/lib.c:62578)\u001b[0;34m()\u001b[0m\n",
      "\u001b[0;32m<ipython-input-57-92d0b693e7a7>\u001b[0m in \u001b[0;36mtokenizer\u001b[0;34m(text)\u001b[0m\n\u001b[1;32m     19\u001b[0m \u001b[0;34m\u001b[0m\u001b[0m\n\u001b[1;32m     20\u001b[0m         \u001b[0;32mreturn\u001b[0m \u001b[0mfiltered_tokens\u001b[0m\u001b[0;34m\u001b[0m\u001b[0m\n\u001b[0;32m---> 21\u001b[0;31m     \u001b[0;32mexcept\u001b[0m \u001b[0mError\u001b[0m \u001b[0;32mas\u001b[0m \u001b[0me\u001b[0m\u001b[0;34m:\u001b[0m\u001b[0;34m\u001b[0m\u001b[0m\n\u001b[0m\u001b[1;32m     22\u001b[0m         \u001b[0;32mprint\u001b[0m\u001b[0;34m(\u001b[0m\u001b[0me\u001b[0m\u001b[0;34m)\u001b[0m\u001b[0;34m\u001b[0m\u001b[0m\n",
      "\u001b[0;31mNameError\u001b[0m: global name 'Error' is not defined"
     ]
    }
   ],
   "source": [
    "data['tokens'] = data['description'].map(tokenizer)"
   ]
  },
  {
   "cell_type": "code",
   "execution_count": null,
   "metadata": {
    "collapsed": true
   },
   "outputs": [],
   "source": []
  },
  {
   "cell_type": "code",
   "execution_count": null,
   "metadata": {
    "collapsed": true
   },
   "outputs": [],
   "source": []
  },
  {
   "cell_type": "code",
   "execution_count": 38,
   "metadata": {},
   "outputs": [
    {
     "name": "stdout",
     "output_type": "stream",
     "text": [
      "('description:', 'NSW Police Commissioner Mick Fuller has conceded that armed officers at the 2014 Sydney siege should have been sent in earlier to rescue the hostages.')\n",
      "('tokens:', None)\n",
      "()\n",
      "('description:', \"Lawyers warned magazine Woman's Day not to publish claims about Hollywood actress Rebel Wilson, which are now at the centre of a defamation case, a court hears.\")\n",
      "('tokens:', None)\n",
      "()\n",
      "('description:', 'MANCHESTER, England (AP) \\xe2\\x80\\x94 British police and intelligence agencies arrested three more suspects Wednesday in connection with the Manchester suicide bombing and moved quickly to secure key sites across the country, including Buckingham Palace and the British Parliament at Westminster. Home Secretary Amber Rudd said the bomber, identified as British-born Libyan Salman Abedi, \"likely\" did not act alone when he killed 22 people and wounded dozens at an Ariana Grande concert Monday night in Manchester. She said he had been known to security forces \"up to a point.\"')\n",
      "('tokens:', None)\n",
      "()\n",
      "('description:', 'LONDON (AP) \\xe2\\x80\\x94 The Latest on the bombing at a pop concert in Manchester that left 22 people dead (all times local): 1:05 p.m. Manchester police made an arrest early Wednesday at a house just a 10-minute walk from the home of suicide bomber Salman Abedi. Omar Alfa Khuri, who lives across the street, said he was awakened at 2:30 a.m. by a loud noise and saw police take away the father of the family that lives there in handcuffs. He said the man is named Adel and is in his 40s, with a wife and several children. He says \"there was a policeman, armed policeman, shouting at my neighbor ... and I realized there is something wrong here ... they arrested the father, and I think the rest of the family kind of disappeared.\" He said he immediately suspected the arrest might be linked to Monday night\\'s concert bombing. He said he knew the man from the neighborhood and the mosque. He says \"in the last 15 years, I haven\\'t seen him in trouble at all. I haven\\'t seen police come to his house.\"')\n",
      "('tokens:', None)\n",
      "()\n",
      "('description:', \"Your daily look at late-breaking news, upcoming events and the stories that will be talked about today: 1. BRITAIN STEPS UP MILITARY PATROLS; PROBES ATTACKER'S LIBYA TIES British authorities work to piece together the allegiances of the Manchester suicide bomber and foil any new potential threats. 2. HAVING PREVIOUSLY CLASHED, TRUMP AND POPE MEET The U.S. president meets with Francis, concluding his tour of the ancestral homes of the world's three largest monotheistic religions.\")\n",
      "('tokens:', None)\n",
      "()\n"
     ]
    }
   ],
   "source": [
    "for descripition, tokens in zip(data['description'].head(5), data['tokens'].head(5)):\n",
    "    print('description:', descripition)\n",
    "    print('tokens:', tokens)\n",
    "    print() "
   ]
  },
  {
   "cell_type": "code",
   "execution_count": null,
   "metadata": {
    "collapsed": true
   },
   "outputs": [],
   "source": []
  },
  {
   "cell_type": "code",
   "execution_count": null,
   "metadata": {
    "collapsed": true
   },
   "outputs": [],
   "source": []
  },
  {
   "cell_type": "code",
   "execution_count": null,
   "metadata": {
    "collapsed": true
   },
   "outputs": [],
   "source": []
  },
  {
   "cell_type": "code",
   "execution_count": null,
   "metadata": {
    "collapsed": true
   },
   "outputs": [],
   "source": []
  },
  {
   "cell_type": "code",
   "execution_count": null,
   "metadata": {
    "collapsed": true
   },
   "outputs": [],
   "source": []
  },
  {
   "cell_type": "code",
   "execution_count": null,
   "metadata": {
    "collapsed": true
   },
   "outputs": [],
   "source": []
  },
  {
   "cell_type": "code",
   "execution_count": null,
   "metadata": {
    "collapsed": true
   },
   "outputs": [],
   "source": []
  },
  {
   "cell_type": "code",
   "execution_count": null,
   "metadata": {
    "collapsed": true
   },
   "outputs": [],
   "source": []
  },
  {
   "cell_type": "code",
   "execution_count": null,
   "metadata": {
    "collapsed": true
   },
   "outputs": [],
   "source": []
  },
  {
   "cell_type": "code",
   "execution_count": null,
   "metadata": {
    "collapsed": true
   },
   "outputs": [],
   "source": []
  },
  {
   "cell_type": "code",
   "execution_count": null,
   "metadata": {
    "collapsed": true
   },
   "outputs": [],
   "source": []
  },
  {
   "cell_type": "code",
   "execution_count": null,
   "metadata": {
    "collapsed": true
   },
   "outputs": [],
   "source": []
  },
  {
   "cell_type": "code",
   "execution_count": null,
   "metadata": {
    "collapsed": true
   },
   "outputs": [],
   "source": []
  },
  {
   "cell_type": "code",
   "execution_count": null,
   "metadata": {
    "collapsed": true
   },
   "outputs": [],
   "source": []
  },
  {
   "cell_type": "code",
   "execution_count": null,
   "metadata": {
    "collapsed": true
   },
   "outputs": [],
   "source": []
  }
 ],
 "metadata": {
  "kernelspec": {
   "display_name": "Python 2",
   "language": "python",
   "name": "python2"
  },
  "language_info": {
   "codemirror_mode": {
    "name": "ipython",
    "version": 2
   },
   "file_extension": ".py",
   "mimetype": "text/x-python",
   "name": "python",
   "nbconvert_exporter": "python",
   "pygments_lexer": "ipython2",
   "version": "2.7.12"
  }
 },
 "nbformat": 4,
 "nbformat_minor": 2
}
